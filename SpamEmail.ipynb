{
  "nbformat": 4,
  "nbformat_minor": 0,
  "metadata": {
    "colab": {
      "name": "SpamEmail.ipynb",
      "provenance": []
    },
    "kernelspec": {
      "name": "python3",
      "display_name": "Python 3"
    },
    "language_info": {
      "name": "python"
    }
  },
  "cells": [
    {
      "cell_type": "code",
      "metadata": {
        "colab": {
          "base_uri": "https://localhost:8080/"
        },
        "id": "aruTLW0UN4iD",
        "outputId": "4bcefc80-8d4d-4dec-ec99-b2826dce0d13"
      },
      "source": [
        "import nltk\n",
        "nltk.download('stopwords')\n",
        "from nltk.tokenize import RegexpTokenizer, word_tokenize\n",
        "from nltk.stem import PorterStemmer as ps\n",
        "from nltk.corpus import stopwords as sw\n",
        "import numpy as np\n",
        "import pandas as pd\n",
        "from sklearn.preprocessing import LabelEncoder\n",
        "from sklearn.feature_extraction.text import CountVectorizer\n",
        "from sklearn.model_selection import train_test_split"
      ],
      "execution_count": 19,
      "outputs": [
        {
          "output_type": "stream",
          "text": [
            "[nltk_data] Downloading package stopwords to /root/nltk_data...\n",
            "[nltk_data]   Unzipping corpora/stopwords.zip.\n"
          ],
          "name": "stdout"
        }
      ]
    },
    {
      "cell_type": "code",
      "metadata": {
        "id": "AIRZEcFiOS23"
      },
      "source": [
        "\n",
        "df = pd.read_csv('/content/sample_data/spam.csv', encoding='ISO-8859-1')\n",
        "le = LabelEncoder()"
      ],
      "execution_count": 14,
      "outputs": []
    },
    {
      "cell_type": "code",
      "metadata": {
        "id": "aLhL30n8OTIN"
      },
      "source": [
        "data = df.to_numpy()"
      ],
      "execution_count": 15,
      "outputs": []
    },
    {
      "cell_type": "code",
      "metadata": {
        "id": "dwzNA0ZbPIHN"
      },
      "source": [
        "X = data[:, 1]\n",
        "y = data[:, 0]"
      ],
      "execution_count": 16,
      "outputs": []
    },
    {
      "cell_type": "code",
      "metadata": {
        "colab": {
          "base_uri": "https://localhost:8080/"
        },
        "id": "UyLPXnn0PIKn",
        "outputId": "789bc079-8ddc-4d72-b40a-37758c23e7cb"
      },
      "source": [
        "\n",
        "X.shape, y.shape"
      ],
      "execution_count": 17,
      "outputs": [
        {
          "output_type": "execute_result",
          "data": {
            "text/plain": [
              "((5572,), (5572,))"
            ]
          },
          "metadata": {
            "tags": []
          },
          "execution_count": 17
        }
      ]
    },
    {
      "cell_type": "code",
      "metadata": {
        "id": "SOlzfhWXPPRK"
      },
      "source": [
        "\n",
        "tokenizer = RegexpTokenizer('\\w+')\n",
        "sw = set(stopwords.words('english'))\n",
        "ps = PorterStemmer()"
      ],
      "execution_count": 20,
      "outputs": []
    },
    {
      "cell_type": "code",
      "metadata": {
        "id": "oyTfm1IIQiV7"
      },
      "source": [
        "def getStem(review):\n",
        "    review = review.lower()\n",
        "    tokens = tokenizer.tokenize(review) # breaking into small words\n",
        "    removed_stopwords = [w for w in tokens if w not in sw]\n",
        "    stemmed_words = [ps.stem(token) for token in removed_stopwords]\n",
        "    clean_review = ' '.join(stemmed_words)\n",
        "    return clean_review"
      ],
      "execution_count": 21,
      "outputs": []
    },
    {
      "cell_type": "code",
      "metadata": {
        "id": "Ew3-liZPQmZy"
      },
      "source": [
        "# get a clean document\n",
        "def getDoc(document):\n",
        "    d = []\n",
        "    for doc in document:\n",
        "        d.append(getStem(doc))\n",
        "    return d"
      ],
      "execution_count": 22,
      "outputs": []
    },
    {
      "cell_type": "code",
      "metadata": {
        "id": "hjlnAfzEQpun"
      },
      "source": [
        "stemmed_doc = getDoc(X)"
      ],
      "execution_count": 23,
      "outputs": []
    },
    {
      "cell_type": "code",
      "metadata": {
        "colab": {
          "base_uri": "https://localhost:8080/"
        },
        "id": "itIh0WVuQu6y",
        "outputId": "3ecbf5d9-24b5-4bfa-cb1f-8af73988879f"
      },
      "source": [
        "stemmed_doc[:10]"
      ],
      "execution_count": 24,
      "outputs": [
        {
          "output_type": "execute_result",
          "data": {
            "text/plain": [
              "['go jurong point crazi avail bugi n great world la e buffet cine got amor wat',\n",
              " 'ok lar joke wif u oni',\n",
              " 'free entri 2 wkli comp win fa cup final tkt 21st may 2005 text fa 87121 receiv entri question std txt rate c appli 08452810075over18',\n",
              " 'u dun say earli hor u c alreadi say',\n",
              " 'nah think goe usf live around though',\n",
              " 'freemsg hey darl 3 week word back like fun still tb ok xxx std chg send å 1 50 rcv',\n",
              " 'even brother like speak treat like aid patent',\n",
              " 'per request mell mell oru minnaminungint nurungu vettam set callertun caller press 9 copi friend callertun',\n",
              " 'winner valu network custom select receivea å 900 prize reward claim call 09061701461 claim code kl341 valid 12 hour',\n",
              " 'mobil 11 month u r entitl updat latest colour mobil camera free call mobil updat co free 08002986030']"
            ]
          },
          "metadata": {
            "tags": []
          },
          "execution_count": 24
        }
      ]
    },
    {
      "cell_type": "code",
      "metadata": {
        "id": "Fn6S6Q4SQwlM"
      },
      "source": [
        "cv = CountVectorizer()"
      ],
      "execution_count": 25,
      "outputs": []
    },
    {
      "cell_type": "code",
      "metadata": {
        "id": "uhrmEm55Qwog"
      },
      "source": [
        "# create my vocab\n",
        "vc = cv.fit_transform(stemmed_doc)"
      ],
      "execution_count": 26,
      "outputs": []
    },
    {
      "cell_type": "code",
      "metadata": {
        "id": "F85qUveNQw7S"
      },
      "source": [
        "\n",
        "X = vc.todense()"
      ],
      "execution_count": 27,
      "outputs": []
    },
    {
      "cell_type": "code",
      "metadata": {
        "id": "db2k_06KQ6-u"
      },
      "source": [
        "X_train, X_test, y_train, y_test = train_test_split(\n",
        "...     X, y, test_size=0.33, random_state=42)"
      ],
      "execution_count": 28,
      "outputs": []
    },
    {
      "cell_type": "code",
      "metadata": {
        "id": "jIVXcb5-Q7CP"
      },
      "source": [
        "\n",
        "from sklearn.naive_bayes import MultinomialNB"
      ],
      "execution_count": 29,
      "outputs": []
    },
    {
      "cell_type": "code",
      "metadata": {
        "colab": {
          "base_uri": "https://localhost:8080/"
        },
        "id": "3yNcaViORClJ",
        "outputId": "a4385c30-c411-406e-845d-6d8032e4acb3"
      },
      "source": [
        "model = MultinomialNB()\n",
        "model.fit(X_train, y_train)\n",
        "model.score(X_test, y_test)"
      ],
      "execution_count": 30,
      "outputs": [
        {
          "output_type": "execute_result",
          "data": {
            "text/plain": [
              "0.977705274605764"
            ]
          },
          "metadata": {
            "tags": []
          },
          "execution_count": 30
        }
      ]
    },
    {
      "cell_type": "code",
      "metadata": {
        "id": "sqmmEyUlRHYK"
      },
      "source": [
        "messages = [\n",
        "    \"\"\"\n",
        "    Dear Gaana Plus user,\n",
        "Your Gaana Plus Gaana Plus* subscription is set to expire on 15/05/2021. Please click on the below link to renew:\n",
        "http://gaana.com/profile\n",
        "We have added new pocket friendly plans. Check out the new plans here\n",
        "    \"\"\",\n",
        "    \"\"\"\n",
        "    Learning SEO basics is not nearly as technical as it may seem. SEO is less about filling your site with the right keywords (what people type into Google searches), and more about writing great content that your audience finds useful.\n",
        "    \"\"\",\n",
        "\n",
        "    \"\"\"\n",
        "    Hi there,\n",
        "\n",
        "\n",
        "Are you already selling online but not seeing the performance you want?\n",
        "\n",
        "If you answered a resounding YES to that, then it may be worth revisiting the most important step when selling online:\n",
        "\"\"\"\n",
        "]"
      ],
      "execution_count": 31,
      "outputs": []
    },
    {
      "cell_type": "code",
      "metadata": {
        "id": "7phiN4ZdRHbf"
      },
      "source": [
        "def prepare(messages):\n",
        "    d = getDoc(messages)\n",
        "    # dont do fit_transform!! it will create new vocab.\n",
        "    return cv.transform(d)\n",
        "\n",
        "messages = prepare(messages)"
      ],
      "execution_count": 32,
      "outputs": []
    },
    {
      "cell_type": "code",
      "metadata": {
        "colab": {
          "base_uri": "https://localhost:8080/"
        },
        "id": "FlKFTuZ0RTNM",
        "outputId": "55ac9420-4624-45cf-f7ed-70f0760a617b"
      },
      "source": [
        "y_pred = model.predict(messages)\n",
        "y_pred"
      ],
      "execution_count": 33,
      "outputs": [
        {
          "output_type": "execute_result",
          "data": {
            "text/plain": [
              "array(['spam', 'ham', 'ham'], dtype='<U4')"
            ]
          },
          "metadata": {
            "tags": []
          },
          "execution_count": 33
        }
      ]
    }
  ]
}